{
 "cells": [
  {
   "cell_type": "code",
   "execution_count": 1,
   "metadata": {},
   "outputs": [],
   "source": [
    "import numpy as np\n",
    "import math\n",
    "from enum import Enum\n",
    "from queue import PriorityQueue\n",
    "from queue import Queue"
   ]
  },
  {
   "cell_type": "code",
   "execution_count": 2,
   "metadata": {},
   "outputs": [],
   "source": [
    "grid_8 = np.array([\n",
    "    [1,2,5],\n",
    "    [3,4,0],\n",
    "    [6,7,8],\n",
    "])"
   ]
  },
  {
   "cell_type": "code",
   "execution_count": 3,
   "metadata": {},
   "outputs": [
    {
     "name": "stdout",
     "output_type": "stream",
     "text": [
      "(array([1, 2, 5]), array([3, 4, 0]), array([6, 7, 8]))\n"
     ]
    }
   ],
   "source": [
    "tuple_8 = tuple(grid_8)\n",
    "print(tuple_8)"
   ]
  },
  {
   "cell_type": "code",
   "execution_count": 4,
   "metadata": {},
   "outputs": [],
   "source": [
    "grid_check = np.array([\n",
    "    [0,1,2],\n",
    "    [3,4,5],\n",
    "    [6,7,8],\n",
    "])"
   ]
  },
  {
   "cell_type": "code",
   "execution_count": 13,
   "metadata": {},
   "outputs": [
    {
     "name": "stdout",
     "output_type": "stream",
     "text": [
      "(0, 1, 2, 3, 4, 5, 6, 7, 8)\n"
     ]
    }
   ],
   "source": [
    "list_8 = grid_check.flatten().tolist()\n",
    "list_8 == [0,1,2,3,4,5,6,7,8]\n",
    "print(tuple(list_8))"
   ]
  },
  {
   "cell_type": "code",
   "execution_count": 8,
   "metadata": {},
   "outputs": [
    {
     "name": "stdout",
     "output_type": "stream",
     "text": [
      "1\n",
      "2\n",
      "(1, 2)\n",
      "<class 'tuple'>\n"
     ]
    }
   ],
   "source": [
    "index = np.where(grid_8 == 0)\n",
    "# print(index)\n",
    "x = int(index[0])\n",
    "y = int(index[1])\n",
    "print(x)\n",
    "print(y)\n",
    "current_node = (x,y)\n",
    "print(current_node)\n",
    "print(type(current_node))"
   ]
  },
  {
   "cell_type": "code",
   "execution_count": 9,
   "metadata": {},
   "outputs": [],
   "source": [
    "def valid_actions(grid, current_node):\n",
    "    \"\"\"\n",
    "    Returns a list of valid actions given a grid and 0 node.\n",
    "    \"\"\"\n",
    "    index = np.where(grid_8 == 0)\n",
    "    valid = [Action.UP, Action.LEFT, Action.RIGHT, Action.DOWN]\n",
    "    n, m = grid_8.shape[0] - 1, grid_8.shape[1] - 1\n",
    "    x, y = int(index[0]),int(index[1])\n",
    "    \n",
    "    \n",
    "    # check if the node is off the grid or it's an obstacle\n",
    "    \n",
    "    if x - 1 < 0 or grid_8[x-1, y] == 1:\n",
    "        valid.remove(Action.UP)\n",
    "    if x + 1 > n or grid_8[x+1, y] == 1:\n",
    "        valid.remove(Action.DOWN)\n",
    "    if y - 1 < 0 or grid_8[x, y-1] == 1:\n",
    "        valid.remove(Action.LEFT)\n",
    "    if y + 1 > m or grid_8[x, y+1] == 1:\n",
    "        valid.remove(Action.RIGHT)     \n",
    "    return valid"
   ]
  },
  {
   "cell_type": "code",
   "execution_count": 17,
   "metadata": {},
   "outputs": [
    {
     "name": "stdout",
     "output_type": "stream",
     "text": [
      "{(3, 5, 6, 1, 0, 4, 7, 8, 2), (0, 1, 2, 3, 4, 5, 6, 7, 8)}\n"
     ]
    }
   ],
   "source": [
    "#  initialize a set() object for your visited list and add the start location to it\n",
    "visited = set()\n",
    "# print(list_8)\n",
    "visited.add(tuple(list_8))\n",
    "visited.add((3,5,6,1,0,4,7,8,2))\n",
    "print(visited)"
   ]
  },
  {
   "cell_type": "code",
   "execution_count": 18,
   "metadata": {},
   "outputs": [],
   "source": [
    "start = (1,2,5,3,4,0,6,7,8)"
   ]
  },
  {
   "cell_type": "code",
   "execution_count": 19,
   "metadata": {},
   "outputs": [],
   "source": [
    "class Action(Enum):\n",
    "\n",
    "    LEFT = (0, -1, 1)\n",
    "    RIGHT = (0, 1, 1)\n",
    "    UP = (-1, 0, 1)\n",
    "    DOWN = (1, 0, 1)\n",
    "             \n",
    "    @property\n",
    "    def cost(self):\n",
    "        return self.value[2]\n",
    "    \n",
    "    @property\n",
    "    def delta(self):\n",
    "        return (self.value[0], self.value[1])  "
   ]
  },
  {
   "cell_type": "code",
   "execution_count": 20,
   "metadata": {},
   "outputs": [],
   "source": [
    "def valid_actions(list):\n",
    "    \"\"\"\n",
    "    Returns a list of valid actions given a grid and 0 node.\n",
    "    \"\"\"\n",
    "    grid = np.array(list).reshape(3,-1)\n",
    "    \n",
    "    index = np.where(grid == 0)\n",
    "    valid = [Action.UP, Action.LEFT, Action.RIGHT, Action.DOWN]\n",
    "    \n",
    "    n, m = grid.shape[0] - 1, grid.shape[1] - 1\n",
    "    x, y = int(index[0]),int(index[1])\n",
    "\n",
    "    \n",
    "    \n",
    "    # check if the node is off the grid or it's an obstacle\n",
    "    \n",
    "    if x - 1 < 0 or grid[x-1, y] == 1:\n",
    "        valid.remove(Action.UP)\n",
    "    if x + 1 > n or grid[x+1, y] == 1:\n",
    "        valid.remove(Action.DOWN)\n",
    "    if y - 1 < 0 or grid[x, y-1] == 1:\n",
    "        valid.remove(Action.LEFT)\n",
    "    if y + 1 > m or grid[x, y+1] == 1:\n",
    "        valid.remove(Action.RIGHT)     \n",
    "    return valid"
   ]
  },
  {
   "cell_type": "code",
   "execution_count": 21,
   "metadata": {},
   "outputs": [
    {
     "name": "stdout",
     "output_type": "stream",
     "text": [
      "[<Action.UP: (-1, 0, 1)>, <Action.LEFT: (0, -1, 1)>, <Action.DOWN: (1, 0, 1)>]\n",
      "(-1, 0)\n"
     ]
    }
   ],
   "source": [
    "a = valid_actions(start)\n",
    "print(a)\n",
    "print(a[0].delta)"
   ]
  },
  {
   "cell_type": "code",
   "execution_count": 92,
   "metadata": {},
   "outputs": [],
   "source": [
    "# initialize a Queue() object and add the start location to it:\n",
    "q = Queue()\n",
    "q.put(start)"
   ]
  },
  {
   "cell_type": "code",
   "execution_count": 93,
   "metadata": {},
   "outputs": [],
   "source": [
    "#  initialize a set() object for your visited list and add the start location to it\n",
    "visited = set()\n",
    "visited.add(start)"
   ]
  },
  {
   "cell_type": "code",
   "execution_count": 94,
   "metadata": {},
   "outputs": [],
   "source": [
    "# define an empty dictionary, where you'll record how you moved through the grid and a goal location, \n",
    "branch = {}\n",
    "goal = (0,1,2,3,4,5,6,7,8)"
   ]
  },
  {
   "cell_type": "code",
   "execution_count": 95,
   "metadata": {},
   "outputs": [
    {
     "name": "stdout",
     "output_type": "stream",
     "text": [
      "[[1 2 5]\n",
      " [3 4 0]\n",
      " [6 7 8]]\n",
      "[[1 2 0]\n",
      " [3 4 5]\n",
      " [6 7 8]]\n"
     ]
    }
   ],
   "source": [
    "start = (1,2,5,3,4,0,6,7,8)\n",
    "da = a[0].delta\n",
    "# print(da[0])\n",
    "# print(da[1])\n",
    "grid = np.array(start).reshape(3,-1)\n",
    "print(grid)\n",
    "\n",
    "index = np.where(grid == 0)\n",
    "# print(index[0])\n",
    "# print(index[1])\n",
    "\n",
    "x, y = int(index[0]),int(index[1]) #node of 0\n",
    "\n",
    "grid[x+da[0],y+da[1]],grid[x,y] = grid[x,y],grid[x+da[0],y+da[1]]\n",
    "next_grid = grid\n",
    "print(next_grid)\n"
   ]
  },
  {
   "cell_type": "code",
   "execution_count": 97,
   "metadata": {},
   "outputs": [
    {
     "name": "stdout",
     "output_type": "stream",
     "text": [
      "deque([(1, 2, 5, 3, 4, 0, 6, 7, 8), (1, 2, 0, 3, 4, 5, 6, 7, 8), (1, 2, 5, 3, 0, 4, 6, 7, 8), (1, 2, 5, 3, 4, 8, 6, 7, 0)])\n",
      "{(1, 2, 0, 3, 4, 5, 6, 7, 8), (1, 2, 5, 3, 4, 0, 6, 7, 8), (1, 2, 5, 3, 4, 8, 6, 7, 0), (1, 2, 5, 3, 0, 4, 6, 7, 8)}\n",
      "{(1, 2, 0, 3, 4, 5, 6, 7, 8): ((1, 2, 5, 3, 4, 0, 6, 7, 8), <Action.UP: (-1, 0, 1)>), (1, 2, 5, 3, 0, 4, 6, 7, 8): ((1, 2, 5, 3, 4, 0, 6, 7, 8), <Action.LEFT: (0, -1, 1)>), (1, 2, 5, 3, 4, 8, 6, 7, 0): ((1, 2, 5, 3, 4, 0, 6, 7, 8), <Action.DOWN: (1, 0, 1)>)}\n"
     ]
    }
   ],
   "source": [
    "current_node = start\n",
    "\n",
    "for action in a:\n",
    "# for action in valid_actions:\n",
    "    # delta of performing the action\n",
    "\n",
    "    da = action.delta\n",
    "    \n",
    "    grid = np.array(start).reshape(3,-1)\n",
    "    index = np.where(grid == 0)\n",
    "    x, y = int(index[0]),int(index[1])\n",
    "    \n",
    "    grid[x+da[0],y+da[1]],grid[x,y] = grid[x,y],grid[x+da[0],y+da[1]]\n",
    "    next_node = tuple(grid.flatten().tolist())\n",
    "\n",
    "\n",
    "    # Check if the new node has been visited before.\n",
    "    # If the node has not been visited you will need to\n",
    "    # 1. Mark it as visited\n",
    "    # 2. Add it to the queue\n",
    "    # 3. Add how you got there to branch\n",
    "    if next_node not in visited:                \n",
    "        visited.add(next_node)               \n",
    "        q.put(next_node)          \n",
    "        branch[next_node] = (current_node, action) \n",
    "\n",
    "print(q.queue)\n",
    "print(visited)\n",
    "print(branch) "
   ]
  },
  {
   "cell_type": "code",
   "execution_count": 91,
   "metadata": {},
   "outputs": [],
   "source": [
    "q.queue.clear()"
   ]
  },
  {
   "cell_type": "code",
   "execution_count": null,
   "metadata": {},
   "outputs": [],
   "source": [
    "def bfs(grid,start,goal):\n",
    "    \n",
    "        "
   ]
  },
  {
   "cell_type": "code",
   "execution_count": null,
   "metadata": {},
   "outputs": [],
   "source": []
  }
 ],
 "metadata": {
  "kernelspec": {
   "display_name": "Python 3",
   "language": "python",
   "name": "python3"
  },
  "language_info": {
   "codemirror_mode": {
    "name": "ipython",
    "version": 3
   },
   "file_extension": ".py",
   "mimetype": "text/x-python",
   "name": "python",
   "nbconvert_exporter": "python",
   "pygments_lexer": "ipython3",
   "version": "3.6.3"
  }
 },
 "nbformat": 4,
 "nbformat_minor": 2
}
