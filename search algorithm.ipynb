{
 "cells": [
  {
   "cell_type": "code",
   "execution_count": 295,
   "metadata": {},
   "outputs": [],
   "source": [
    "import numpy as np\n",
    "import math\n",
    "from enum import Enum\n",
    "from queue import Queue"
   ]
  },
  {
   "cell_type": "code",
   "execution_count": 296,
   "metadata": {},
   "outputs": [],
   "source": [
    "class Action(Enum):\n",
    "    \n",
    "    \"\"\"\n",
    "    Define a class to record element movement actions for a grid\n",
    "    \"\"\"\n",
    "\n",
    "    LEFT  =  ( 0, -1)\n",
    "    RIGHT =  ( 0,  1)\n",
    "    UP    =  (-1,  0) \n",
    "    DOWN  =  ( 1,  0)\n",
    "    \n",
    "    @property\n",
    "    def delta(self):\n",
    "        return (self.value[0], self.value[1])  "
   ]
  },
  {
   "cell_type": "code",
   "execution_count": 399,
   "metadata": {},
   "outputs": [],
   "source": [
    "def valid_actions(tuple):\n",
    "    \"\"\"\n",
    "    Returns a list of valid actions given a tuple and 0 node.\n",
    "    \"\"\"\n",
    "    grid = np.array(tuple).reshape(3,-1)\n",
    "    \n",
    "    index = np.where(grid == 0)\n",
    "    valid = [Action.UP, Action.LEFT, Action.RIGHT, Action.DOWN]\n",
    "    \n",
    "    n, m = grid.shape[0] - 1, grid.shape[1] - 1\n",
    "    x, y = int(index[0]),int(index[1])\n",
    "#     print(m,n)\n",
    "#     print(x,y)\n",
    "    \n",
    "    \n",
    "\n",
    "    # check if the node is off the grid or it's an obstacle\n",
    "    \n",
    "    if x == 0:\n",
    "        valid.remove(Action.UP)\n",
    "    if x == n:\n",
    "        valid.remove(Action.DOWN)\n",
    "    if y == 0:\n",
    "        valid.remove(Action.LEFT)\n",
    "    if y == m:\n",
    "        valid.remove(Action.RIGHT)     \n",
    "    return valid"
   ]
  },
  {
   "cell_type": "code",
   "execution_count": 442,
   "metadata": {},
   "outputs": [],
   "source": [
    "# start = (1,2,5,3,4,0,6,7,8)  # answer correct 3 steps\n",
    "# start = (0,1,2,7,6,5,4,3,8) # answer correct 14 steps\n",
    "start = (5,8,3,2,0,1,4,7,6)\n",
    "goal  = (0,1,2,3,4,5,6,7,8)"
   ]
  },
  {
   "cell_type": "code",
   "execution_count": 449,
   "metadata": {},
   "outputs": [],
   "source": [
    "def bfs(start,goal):\n",
    "    \"\"\"\n",
    "    Returns a valid steps list by given the start and goal tuple. implement BFS algorithm.\n",
    "    \"\"\"\n",
    "    \n",
    "    path = []\n",
    "    # initialize a Queue() object and add the start location to it:\n",
    "    queue  = Queue()\n",
    "    queue.put(start)\n",
    "    #  initialize a set() object for your visited list and add the start location to it\n",
    "    visited = set()\n",
    "    visited.add(start)\n",
    "    # define an empty dictionary, where you'll record how you moved through the grid and a goal location,\n",
    "    branch = {}\n",
    "    found = False\n",
    "    \n",
    "    while not queue.empty():\n",
    "        # deque and store the explored node\n",
    "        current_node = queue.get()\n",
    "        visited.add(current_node)\n",
    "        \n",
    "        # goal check\n",
    "        if current_node == goal:\n",
    "            print('Found the Solution')\n",
    "            found = True\n",
    "            break\n",
    "        else:\n",
    "            for action in valid_actions(current_node):\n",
    "                # get movement indicator from actions list\n",
    "                da = action.delta\n",
    "                \n",
    "                # tuple -> grid transformation\n",
    "                grid = np.array(current_node).reshape(3,-1)\n",
    "                \n",
    "                # find grid index of 0\n",
    "                index = np.where(grid == 0)\n",
    "                x,y = int(index[0]),int(index[1])\n",
    "                \n",
    "                #grid manipulation to exchange 0 and neighbor elements. \n",
    "                grid[x+da[0],y+da[1]],grid[x,y] = grid[x,y],grid[x+da[0],y+da[1]]\n",
    "                \n",
    "                # grid -> tuple transformation\n",
    "                next_node = tuple(grid.flatten().tolist())\n",
    "                \n",
    "#               print(next_node) #debug\n",
    "\n",
    "                # Check if the new node has been visited before.\n",
    "                # If the node has not been visited:\n",
    "                # 1. Mark it as visited\n",
    "                # 2. Add it to the queue\n",
    "                # 3. Add how I got there to branch\n",
    "                if next_node not in visited:\n",
    "                    visited.add(next_node)\n",
    "                    queue.put(next_node)\n",
    "                    branch[next_node] = (current_node, action)\n",
    "#                   print(len(branch))\n",
    "    \n",
    "    if found:\n",
    "    \n",
    "        n = goal\n",
    "        while branch[n][0] != start:\n",
    "            \n",
    "            path.append(branch[n][1])\n",
    "            n = branch[n][0]\n",
    "            \n",
    "        path.append(branch[n][1])\n",
    "        \n",
    "    return path[::-1]"
   ]
  },
  {
   "cell_type": "code",
   "execution_count": 448,
   "metadata": {},
   "outputs": [
    {
     "name": "stdout",
     "output_type": "stream",
     "text": [
      "Found the Solution\n"
     ]
    }
   ],
   "source": [
    "path = bfs(start,goal)"
   ]
  },
  {
   "cell_type": "code",
   "execution_count": 447,
   "metadata": {},
   "outputs": [
    {
     "name": "stdout",
     "output_type": "stream",
     "text": [
      "24\n",
      "[<Action.UP: (-1, 0)>, <Action.RIGHT: (0, 1)>, <Action.DOWN: (1, 0)>, <Action.LEFT: (0, -1)>, <Action.UP: (-1, 0)>, <Action.LEFT: (0, -1)>, <Action.DOWN: (1, 0)>, <Action.RIGHT: (0, 1)>, <Action.DOWN: (1, 0)>, <Action.RIGHT: (0, 1)>, <Action.UP: (-1, 0)>, <Action.UP: (-1, 0)>, <Action.LEFT: (0, -1)>, <Action.LEFT: (0, -1)>, <Action.DOWN: (1, 0)>, <Action.DOWN: (1, 0)>, <Action.RIGHT: (0, 1)>, <Action.UP: (-1, 0)>, <Action.RIGHT: (0, 1)>, <Action.UP: (-1, 0)>, <Action.LEFT: (0, -1)>, <Action.DOWN: (1, 0)>, <Action.LEFT: (0, -1)>, <Action.UP: (-1, 0)>]\n"
     ]
    }
   ],
   "source": [
    "print(len(path))\n",
    "print(path)"
   ]
  },
  {
   "cell_type": "code",
   "execution_count": null,
   "metadata": {},
   "outputs": [],
   "source": []
  }
 ],
 "metadata": {
  "kernelspec": {
   "display_name": "Python 3",
   "language": "python",
   "name": "python3"
  },
  "language_info": {
   "codemirror_mode": {
    "name": "ipython",
    "version": 3
   },
   "file_extension": ".py",
   "mimetype": "text/x-python",
   "name": "python",
   "nbconvert_exporter": "python",
   "pygments_lexer": "ipython3",
   "version": "3.6.3"
  }
 },
 "nbformat": 4,
 "nbformat_minor": 2
}
