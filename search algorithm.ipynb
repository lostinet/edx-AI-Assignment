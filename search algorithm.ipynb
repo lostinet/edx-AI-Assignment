{
 "cells": [
  {
   "cell_type": "code",
   "execution_count": 25,
   "metadata": {},
   "outputs": [],
   "source": [
    "import numpy as np\n",
    "import math\n",
    "from enum import Enum\n",
    "from queue import Queue\n",
    "import time\n",
    "import resource"
   ]
  },
  {
   "cell_type": "code",
   "execution_count": 2,
   "metadata": {},
   "outputs": [],
   "source": [
    "class Action(Enum):\n",
    "    \n",
    "    \"\"\"\n",
    "    Define a class to record element movement actions for a grid\n",
    "    \"\"\"\n",
    "\n",
    "    LEFT  =  ( 0, -1)\n",
    "    RIGHT =  ( 0,  1)\n",
    "    UP    =  (-1,  0) \n",
    "    DOWN  =  ( 1,  0)\n",
    "    \n",
    "    @property\n",
    "    def delta(self):\n",
    "        return (self.value[0], self.value[1])  "
   ]
  },
  {
   "cell_type": "code",
   "execution_count": 3,
   "metadata": {},
   "outputs": [],
   "source": [
    "def valid_actions(tuple):\n",
    "    \"\"\"\n",
    "    Returns a list of valid actions given a tuple and 0 node.\n",
    "    \"\"\"\n",
    "    grid = np.array(tuple).reshape(3,-1)\n",
    "    \n",
    "    index = np.where(grid == 0)\n",
    "    valid = [Action.UP, Action.LEFT, Action.RIGHT, Action.DOWN]\n",
    "    \n",
    "    n, m = grid.shape[0] - 1, grid.shape[1] - 1\n",
    "    x, y = int(index[0]),int(index[1])\n",
    "#     print(m,n)\n",
    "#     print(x,y)\n",
    "    \n",
    "    \n",
    "\n",
    "    # check if the node is off the grid or it's an obstacle\n",
    "    \n",
    "    if x == 0:\n",
    "        valid.remove(Action.UP)\n",
    "    if x == n:\n",
    "        valid.remove(Action.DOWN)\n",
    "    if y == 0:\n",
    "        valid.remove(Action.LEFT)\n",
    "    if y == m:\n",
    "        valid.remove(Action.RIGHT)     \n",
    "    return valid"
   ]
  },
  {
   "cell_type": "code",
   "execution_count": 4,
   "metadata": {},
   "outputs": [],
   "source": [
    "# start = (1,2,5,3,4,0,6,7,8)  # answer correct 3 steps\n",
    "# start = (0,1,2,7,6,5,4,3,8) # answer correct 14 steps\n",
    "start = (5,8,3,2,0,1,4,7,6)\n",
    "goal  = (0,1,2,3,4,5,6,7,8)"
   ]
  },
  {
   "cell_type": "code",
   "execution_count": 224,
   "metadata": {},
   "outputs": [],
   "source": [
    "def bfs(start,goal):\n",
    "    \"\"\"\n",
    "    Returns a valid steps list by given the start and goal tuple. implement BFS algorithm.\n",
    "    \"\"\"\n",
    "    \n",
    "    path = []\n",
    "    depth = []\n",
    "    depth_path = []\n",
    "    # initialize a Queue() object and add the start location to it:\n",
    "    queue  = Queue()\n",
    "    queue.put(start)\n",
    "    #  initialize a set() object for visited list and add the start location to it\n",
    "    visited = set()\n",
    "    visited.add(start)\n",
    "    # define an empty dictionary, where you'll record how you moved through the grid and a goal location,\n",
    "    branch = {}\n",
    "    found = False\n",
    "    \n",
    "    \n",
    "    while not queue.empty():\n",
    "        # deque and store the explored node\n",
    "        current_node = queue.get()\n",
    "        visited.add(current_node)\n",
    "        \n",
    "        \n",
    "        # goal check\n",
    "        if current_node == goal:\n",
    "            print('Found the Solution')\n",
    "            found = True\n",
    "            break\n",
    "        else:\n",
    "            for action in valid_actions(current_node):\n",
    "                # get movement indicator from actions list\n",
    "                da = action.delta\n",
    "                \n",
    "                # tuple -> grid transformation\n",
    "                grid = np.array(current_node).reshape(3,-1)\n",
    "                \n",
    "                # find grid index of 0\n",
    "                index = np.where(grid == 0)\n",
    "                x,y = int(index[0]),int(index[1])\n",
    "                \n",
    "                #grid manipulation to exchange 0 and neighbor elements. \n",
    "                grid[x+da[0],y+da[1]],grid[x,y] = grid[x,y],grid[x+da[0],y+da[1]]\n",
    "                \n",
    "                # grid -> tuple transformation\n",
    "                next_node = tuple(grid.flatten().tolist())\n",
    "                \n",
    "\n",
    "                \n",
    "#                 print(len(next_node)) #debug\n",
    "\n",
    "                # Check if the new node has been visited before.\n",
    "                # If the node has not been visited:\n",
    "                # 1. Mark it as visited\n",
    "                # 2. Add it to the queue\n",
    "                # 3. Add how I got there to branch\n",
    "                if next_node not in visited:\n",
    "                    visited.add(next_node)\n",
    "                    queue.put(next_node)\n",
    "                    branch[next_node] = (current_node, action)\n",
    "                    \n",
    "#                     print(branch[next_node][0])\n",
    "\n",
    "#                 nn = next_node\n",
    "#                 while branch[nn][0] != start:\n",
    "#                     depth_path.append(branch[nn][1])\n",
    "#                     nn = branch[nn][0]\n",
    "#                 depth_path.append(branch[nn][1])\n",
    "#                 depth.append(len(depth_path))  \n",
    "                    \n",
    "                \n",
    "    \n",
    "    if found:\n",
    "        notes = len(branch)\n",
    "        \n",
    "        # traceback to find the depth by using of the branch dictionary.\n",
    "        n = goal\n",
    "#         print(branch[n][0])\n",
    "        while branch[n][0] != start:\n",
    "            \n",
    "            path.append(branch[n][1])\n",
    "            n = branch[n][0]\n",
    "            \n",
    "        path.append(branch[n][1])\n",
    "\n",
    "        \n",
    "    return path[::-1], notes, depth"
   ]
  },
  {
   "cell_type": "code",
   "execution_count": 225,
   "metadata": {},
   "outputs": [
    {
     "name": "stdout",
     "output_type": "stream",
     "text": [
      "Found the Solution\n"
     ]
    },
    {
     "data": {
      "text/plain": [
       "3148524"
      ]
     },
     "execution_count": 225,
     "metadata": {},
     "output_type": "execute_result"
    }
   ],
   "source": [
    "t0=time.time()\n",
    "path, node, depth = bfs(start,goal)\n",
    "t1=time.time()\n",
    "\n",
    "# simplify the output: e.g. <Action.LEFT: (0, -1)> --> LEFT\n",
    "path_output = []\n",
    "for i in range(len(path)):\n",
    "    path_output.append(str(path[i])[7:])\n",
    "\n",
    "# output of Max Ram Usage\n",
    "usage = resource.getrusage(resource.RUSAGE_SELF).ru_maxrss\n",
    "\n",
    "max(depth)"
   ]
  },
  {
   "cell_type": "markdown",
   "metadata": {},
   "source": []
  },
  {
   "cell_type": "code",
   "execution_count": 221,
   "metadata": {},
   "outputs": [
    {
     "name": "stdout",
     "output_type": "stream",
     "text": [
      "Cost Of Path: 24\n",
      "Notes Expended: 152535\n",
      "Search Depth: 24\n",
      "Max Ram Usage: 294187008 \n",
      "Running Time(in second): 8.194725e+00\n",
      "Path To Goal: ['UP', 'RIGHT', 'DOWN', 'LEFT', 'UP', 'LEFT', 'DOWN', 'RIGHT', 'DOWN', 'RIGHT', 'UP', 'UP', 'LEFT', 'LEFT', 'DOWN', 'DOWN', 'RIGHT', 'UP', 'RIGHT', 'UP', 'LEFT', 'DOWN', 'LEFT', 'UP']\n"
     ]
    }
   ],
   "source": [
    "print(\"Cost Of Path: %d\" % len(path))\n",
    "print(\"Notes Expended: %d\" % node)\n",
    "print(\"Search Depth: %d\" % len(path))\n",
    "# print(\"Max Search Depth:\" %d )\n",
    "print(\"Max Ram Usage: %d \" % usage)\n",
    "print(\"Running Time(in second): %e\" % (t1-t0))\n",
    "print(\"Path To Goal: %r\" % path_output)"
   ]
  },
  {
   "cell_type": "code",
   "execution_count": null,
   "metadata": {},
   "outputs": [],
   "source": []
  }
 ],
 "metadata": {
  "kernelspec": {
   "display_name": "Python 3",
   "language": "python",
   "name": "python3"
  },
  "language_info": {
   "codemirror_mode": {
    "name": "ipython",
    "version": 3
   },
   "file_extension": ".py",
   "mimetype": "text/x-python",
   "name": "python",
   "nbconvert_exporter": "python",
   "pygments_lexer": "ipython3",
   "version": "3.6.3"
  }
 },
 "nbformat": 4,
 "nbformat_minor": 2
}
